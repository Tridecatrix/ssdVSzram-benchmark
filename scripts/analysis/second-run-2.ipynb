{
 "cells": [
  {
   "cell_type": "code",
   "execution_count": 3,
   "id": "3b5155f8-3a85-4591-ad2a-451525ce8273",
   "metadata": {},
   "outputs": [],
   "source": [
    "import matplotlib.pyplot as plt\n",
    "import pandas as pd\n",
    "import numpy as np\n",
    "import json\n",
    "import glob\n",
    "import pandasql as pdsql\n",
    "\n",
    "import analysislib as alib"
   ]
  },
  {
   "cell_type": "code",
   "execution_count": 10,
   "id": "e698049e-96f5-4e3f-bc45-2252d1b61238",
   "metadata": {},
   "outputs": [],
   "source": [
    "pdsqleval = lambda q: pdsql.sqldf(q, globals())"
   ]
  },
  {
   "cell_type": "code",
   "execution_count": 14,
   "id": "542dd088-2eac-41aa-aa83-6f162830200f",
   "metadata": {},
   "outputs": [],
   "source": [
    "master2 = pd.read_csv(\"../../data/2025-03-04-time-18-40-26-second-run-finch2/master.csv\", index_col=0)"
   ]
  },
  {
   "cell_type": "code",
   "execution_count": 16,
   "id": "2db36f17-060a-482e-9640-f3bdac6b265c",
   "metadata": {},
   "outputs": [],
   "source": [
    "# pdsqleval(\"SELECT * FROM master2\")"
   ]
  },
  {
   "cell_type": "code",
   "execution_count": null,
   "id": "891dcb8a-7ca5-49de-9b03-022ecbf552b6",
   "metadata": {},
   "outputs": [],
   "source": []
  }
 ],
 "metadata": {
  "kernelspec": {
   "display_name": "Python 3 (ipykernel)",
   "language": "python",
   "name": "python3"
  },
  "language_info": {
   "codemirror_mode": {
    "name": "ipython",
    "version": 3
   },
   "file_extension": ".py",
   "mimetype": "text/x-python",
   "name": "python",
   "nbconvert_exporter": "python",
   "pygments_lexer": "ipython3",
   "version": "3.11.7"
  }
 },
 "nbformat": 4,
 "nbformat_minor": 5
}
