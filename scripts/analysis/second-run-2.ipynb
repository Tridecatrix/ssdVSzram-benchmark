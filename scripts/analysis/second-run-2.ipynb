{
 "cells": [
  {
   "cell_type": "code",
   "execution_count": 1,
   "id": "3b5155f8-3a85-4591-ad2a-451525ce8273",
   "metadata": {},
   "outputs": [],
   "source": [
    "import matplotlib.pyplot as plt\n",
    "import pandas as pd\n",
    "import numpy as np\n",
    "import json\n",
    "import glob\n",
    "import pandasql as pdsql\n",
    "\n",
    "import analysislib as alib"
   ]
  },
  {
   "cell_type": "code",
   "execution_count": 2,
   "id": "e698049e-96f5-4e3f-bc45-2252d1b61238",
   "metadata": {},
   "outputs": [],
   "source": [
    "pdsqleval = lambda q: pdsql.sqldf(q, globals())"
   ]
  },
  {
   "cell_type": "code",
   "execution_count": 3,
   "id": "542dd088-2eac-41aa-aa83-6f162830200f",
   "metadata": {},
   "outputs": [],
   "source": [
    "master2 = pd.read_csv(\"../../data/2025-03-04-time-18-40-26-second-run-finch2/master.csv\", index_col=0)\n",
    "master2 = alib.create_simpl_columns(master2)"
   ]
  },
  {
   "cell_type": "code",
   "execution_count": 15,
   "id": "2db36f17-060a-482e-9640-f3bdac6b265c",
   "metadata": {},
   "outputs": [
    {
     "data": {
      "text/plain": [
       "Index(['cbSize', 'cioengine', 'ciodepth', 'crw', 'cnproc', 'cdevice',\n",
       "       'readBW_bytes', 'writeBW_bytes', 'avgreadlat_ns', 'avgwritelat_ns',\n",
       "       'readBW', 'writeBW', 'avgreadlat', 'avgwritelat'],\n",
       "      dtype='object')"
      ]
     },
     "execution_count": 15,
     "metadata": {},
     "output_type": "execute_result"
    }
   ],
   "source": [
    "pdsqleval(\"SELECT * FROM master2\").columns"
   ]
  },
  {
   "cell_type": "code",
   "execution_count": 14,
   "id": "891dcb8a-7ca5-49de-9b03-022ecbf552b6",
   "metadata": {},
   "outputs": [
    {
     "data": {
      "text/html": [
       "<div>\n",
       "<style scoped>\n",
       "    .dataframe tbody tr th:only-of-type {\n",
       "        vertical-align: middle;\n",
       "    }\n",
       "\n",
       "    .dataframe tbody tr th {\n",
       "        vertical-align: top;\n",
       "    }\n",
       "\n",
       "    .dataframe thead th {\n",
       "        text-align: right;\n",
       "    }\n",
       "</style>\n",
       "<table border=\"1\" class=\"dataframe\">\n",
       "  <thead>\n",
       "    <tr style=\"text-align: right;\">\n",
       "      <th></th>\n",
       "      <th>ciodepth</th>\n",
       "      <th>cnproc</th>\n",
       "      <th>cdevice</th>\n",
       "      <th>readBW</th>\n",
       "    </tr>\n",
       "  </thead>\n",
       "  <tbody>\n",
       "    <tr>\n",
       "      <th>0</th>\n",
       "      <td>64</td>\n",
       "      <td>1</td>\n",
       "      <td>ssd</td>\n",
       "      <td>1.0 GB</td>\n",
       "    </tr>\n",
       "    <tr>\n",
       "      <th>1</th>\n",
       "      <td>128</td>\n",
       "      <td>1</td>\n",
       "      <td>ssd</td>\n",
       "      <td>1.1 GB</td>\n",
       "    </tr>\n",
       "    <tr>\n",
       "      <th>2</th>\n",
       "      <td>64</td>\n",
       "      <td>32</td>\n",
       "      <td>ssd</td>\n",
       "      <td>5.6 GB</td>\n",
       "    </tr>\n",
       "    <tr>\n",
       "      <th>3</th>\n",
       "      <td>128</td>\n",
       "      <td>32</td>\n",
       "      <td>ssd</td>\n",
       "      <td>5.9 GB</td>\n",
       "    </tr>\n",
       "    <tr>\n",
       "      <th>4</th>\n",
       "      <td>64</td>\n",
       "      <td>64</td>\n",
       "      <td>ssd</td>\n",
       "      <td>5.6 GB</td>\n",
       "    </tr>\n",
       "    <tr>\n",
       "      <th>5</th>\n",
       "      <td>128</td>\n",
       "      <td>64</td>\n",
       "      <td>ssd</td>\n",
       "      <td>5.2 GB</td>\n",
       "    </tr>\n",
       "    <tr>\n",
       "      <th>6</th>\n",
       "      <td>64</td>\n",
       "      <td>1</td>\n",
       "      <td>zram</td>\n",
       "      <td>1.1 GB</td>\n",
       "    </tr>\n",
       "    <tr>\n",
       "      <th>7</th>\n",
       "      <td>128</td>\n",
       "      <td>1</td>\n",
       "      <td>zram</td>\n",
       "      <td>1.1 GB</td>\n",
       "    </tr>\n",
       "    <tr>\n",
       "      <th>8</th>\n",
       "      <td>64</td>\n",
       "      <td>32</td>\n",
       "      <td>zram</td>\n",
       "      <td>16.8 GB</td>\n",
       "    </tr>\n",
       "    <tr>\n",
       "      <th>9</th>\n",
       "      <td>128</td>\n",
       "      <td>32</td>\n",
       "      <td>zram</td>\n",
       "      <td>18.0 GB</td>\n",
       "    </tr>\n",
       "    <tr>\n",
       "      <th>10</th>\n",
       "      <td>64</td>\n",
       "      <td>64</td>\n",
       "      <td>zram</td>\n",
       "      <td>16.3 GB</td>\n",
       "    </tr>\n",
       "    <tr>\n",
       "      <th>11</th>\n",
       "      <td>128</td>\n",
       "      <td>64</td>\n",
       "      <td>zram</td>\n",
       "      <td>19.4 GB</td>\n",
       "    </tr>\n",
       "  </tbody>\n",
       "</table>\n",
       "</div>"
      ],
      "text/plain": [
       "    ciodepth  cnproc cdevice   readBW\n",
       "0         64       1     ssd   1.0 GB\n",
       "1        128       1     ssd   1.1 GB\n",
       "2         64      32     ssd   5.6 GB\n",
       "3        128      32     ssd   5.9 GB\n",
       "4         64      64     ssd   5.6 GB\n",
       "5        128      64     ssd   5.2 GB\n",
       "6         64       1    zram   1.1 GB\n",
       "7        128       1    zram   1.1 GB\n",
       "8         64      32    zram  16.8 GB\n",
       "9        128      32    zram  18.0 GB\n",
       "10        64      64    zram  16.3 GB\n",
       "11       128      64    zram  19.4 GB"
      ]
     },
     "execution_count": 14,
     "metadata": {},
     "output_type": "execute_result"
    }
   ],
   "source": [
    "pdsqleval(\"\"\"\n",
    "    SELECT ciodepth, cnproc, cdevice, readBW\n",
    "    FROM master2\n",
    "    WHERE cioengine = 'libaio' AND crw = 'randread'\n",
    "    ORDER BY cdevice, cnproc, ciodepth\n",
    "\"\"\")"
   ]
  },
  {
   "cell_type": "code",
   "execution_count": null,
   "id": "1c3583cb-6738-4ead-bc89-cb57c1fc6780",
   "metadata": {},
   "outputs": [],
   "source": []
  }
 ],
 "metadata": {
  "kernelspec": {
   "display_name": "Python 3 (ipykernel)",
   "language": "python",
   "name": "python3"
  },
  "language_info": {
   "codemirror_mode": {
    "name": "ipython",
    "version": 3
   },
   "file_extension": ".py",
   "mimetype": "text/x-python",
   "name": "python",
   "nbconvert_exporter": "python",
   "pygments_lexer": "ipython3",
   "version": "3.11.7"
  }
 },
 "nbformat": 4,
 "nbformat_minor": 5
}
