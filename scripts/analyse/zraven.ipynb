{
 "cells": [
  {
   "cell_type": "code",
   "execution_count": 3,
   "metadata": {},
   "outputs": [],
   "source": [
    "import matplotlib.pyplot as plt\n",
    "import pandas as pd\n",
    "import numpy as np\n",
    "import json\n",
    "import glob\n",
    "import sys\n",
    "import pandasql as pdsql\n",
    "\n",
    "sys.path.append(\"..\")\n",
    "import analysislib as alib\n",
    "\n",
    "# ABOVE ZNONEOFTHE\n",
    "\n",
    "root = \"../..\""
   ]
  },
  {
   "cell_type": "code",
   "execution_count": 10,
   "metadata": {},
   "outputs": [],
   "source": [
    "sq = lambda q: pdsql.sqldf(q, globals())\n",
    "sqflat = lambda q: alib.flatten(pdsql.sqldf(q, globals()).values.tolist())"
   ]
  },
  {
   "cell_type": "code",
   "execution_count": 50,
   "metadata": {},
   "outputs": [],
   "source": [
    "dffinch = pd.read_csv(f\"{root}/data/2025-03-04-time-18-40-26-second-run-finch2/master.csv\")"
   ]
  },
  {
   "cell_type": "code",
   "execution_count": 26,
   "metadata": {},
   "outputs": [],
   "source": [
    "dfraven = pd.read_csv(f\"{root}/data/2025-07-10-time-23-59-28-raven3-benchmark/master.csv\")\n",
    "dfraven[\"readBW_GB\"] = df[\"readBW_bytes\"]/(1024.0 * 1024.0 * 1024.0)\n",
    "dfraven[\"writeBW_GB\"] = df[\"writeBW_bytes\"]/(1024.0 * 1024.0 * 1024.0)\n",
    "dfraven[\"avgreadlat_us\"] = df[\"avgreadlat_ns\"]/1000.0\n",
    "dfraven[\"avgwritelat_us\"] = df[\"avgwritelat_ns\"]/1000.0"
   ]
  },
  {
   "cell_type": "code",
   "execution_count": null,
   "metadata": {},
   "outputs": [],
   "source": [
    "dffinch = pd.read_csv(f\"{root}/data/2025-07-10-time-23-59-28-raven3-benchmark/master.csv\")\n",
    "dffinch[\"readBW_GB\"] = df[\"readBW_bytes\"]/(1024.0 * 1024.0 * 1024.0)\n",
    "dffinch[\"writeBW_GB\"] = df[\"writeBW_bytes\"]/(1024.0 * 1024.0 * 1024.0)\n",
    "dffinch[\"avgreadlat_us\"] = df[\"avgreadlat_ns\"]/1000.0\n",
    "dffinch[\"avgwritelat_us\"] = df[\"avgwritelat_ns\"]/1000.0"
   ]
  },
  {
   "cell_type": "code",
   "execution_count": 35,
   "metadata": {},
   "outputs": [
    {
     "data": {
      "text/plain": [
       "Index(['Unnamed: 0', 'cbSize', 'cioengine', 'ciodepth', 'crw', 'cnproc',\n",
       "       'cdevice', 'cdirect', 'cmemlim', 'cfile', 'readBW_bytes', 'readBW',\n",
       "       'writeBW_bytes', 'writeBW', 'avgreadlat_ns', 'avgreadlat',\n",
       "       'avgwritelat_ns', 'avgwritelat', 'USR_UTIL_perc', 'SYS_UTIL_perc',\n",
       "       'IOW_UTIL_perc', 'IDL_UTIL_perc', 'CPU_UTIL_perc',\n",
       "       'diskutil-TOTAL_READS(KB)', 'diskutil-TOTAL_WRITES(KB)',\n",
       "       'diskutil-TOTAL_READS(MB)', 'diskutil-TOTAL_WRITES(MB)',\n",
       "       'diskutil-TOTAL_READS(GB)', 'diskutil-TOTAL_WRITES(GB)',\n",
       "       'diskutil-rMB/s', 'diskutil-wMB/s', 'diskutil-AVGRQ-SZ',\n",
       "       'diskutil-AVGQU-SZ', 'diskutil-DEV_UTIL', 'readBW_GB', 'writeBW_GB',\n",
       "       'avgreadlat_us', 'avgwritelat_us'],\n",
       "      dtype='object')"
      ]
     },
     "execution_count": 35,
     "metadata": {},
     "output_type": "execute_result"
    }
   ],
   "source": [
    "df.columns"
   ]
  },
  {
   "cell_type": "code",
   "execution_count": 34,
   "metadata": {},
   "outputs": [
    {
     "name": "stdout",
     "output_type": "stream",
     "text": [
      "Devices: ssd zram0 zram1 zram2\n",
      "Total file size during runs: 34359738368\n",
      "Block sizes: 4096 65536\n",
      "Numbers of processes: 32 64\n",
      "Read/write type options: read write rw randread randwrite randrw\n",
      "Async I/O engines: libaio io_uring\n",
      "Async I/O depths: 128 2056\n",
      "Sync I/O engines: sync mmap\n",
      "\n"
     ]
    }
   ],
   "source": [
    "with open(f\"{root}/data/2025-07-10-time-23-59-28-raven3-benchmark/fio-config.txt\") as f:\n",
    "    print(f.read())\n",
    "\n",
    "with open(f\"{root}/data/2025-07-10-time-23-59-28-raven3-benchmark/fio-config.txt\") as f:\n",
    "    print(f.read())"
   ]
  },
  {
   "cell_type": "code",
   "execution_count": 49,
   "metadata": {},
   "outputs": [
    {
     "data": {
      "text/html": [
       "<div>\n",
       "<style scoped>\n",
       "    .dataframe tbody tr th:only-of-type {\n",
       "        vertical-align: middle;\n",
       "    }\n",
       "\n",
       "    .dataframe tbody tr th {\n",
       "        vertical-align: top;\n",
       "    }\n",
       "\n",
       "    .dataframe thead th {\n",
       "        text-align: right;\n",
       "    }\n",
       "</style>\n",
       "<table border=\"1\" class=\"dataframe\">\n",
       "  <thead>\n",
       "    <tr style=\"text-align: right;\">\n",
       "      <th></th>\n",
       "      <th>cdevice</th>\n",
       "      <th>readBW_GB</th>\n",
       "      <th>writeBW_GB</th>\n",
       "      <th>avgreadlat_us</th>\n",
       "      <th>avgwritelat_us</th>\n",
       "    </tr>\n",
       "  </thead>\n",
       "  <tbody>\n",
       "    <tr>\n",
       "      <th>0</th>\n",
       "      <td>zram-lz4</td>\n",
       "      <td>2.375297</td>\n",
       "      <td>0.0</td>\n",
       "      <td>43.522307</td>\n",
       "      <td>0.0</td>\n",
       "    </tr>\n",
       "    <tr>\n",
       "      <th>1</th>\n",
       "      <td>zram-zstd</td>\n",
       "      <td>1.350382</td>\n",
       "      <td>0.0</td>\n",
       "      <td>45.329374</td>\n",
       "      <td>0.0</td>\n",
       "    </tr>\n",
       "    <tr>\n",
       "      <th>2</th>\n",
       "      <td>ssd</td>\n",
       "      <td>0.781593</td>\n",
       "      <td>0.0</td>\n",
       "      <td>146.139330</td>\n",
       "      <td>0.0</td>\n",
       "    </tr>\n",
       "    <tr>\n",
       "      <th>3</th>\n",
       "      <td>zram-lzo</td>\n",
       "      <td>2.395748</td>\n",
       "      <td>0.0</td>\n",
       "      <td>44.263953</td>\n",
       "      <td>0.0</td>\n",
       "    </tr>\n",
       "  </tbody>\n",
       "</table>\n",
       "</div>"
      ],
      "text/plain": [
       "     cdevice  readBW_GB  writeBW_GB  avgreadlat_us  avgwritelat_us\n",
       "0   zram-lz4   2.375297         0.0      43.522307             0.0\n",
       "1  zram-zstd   1.350382         0.0      45.329374             0.0\n",
       "2        ssd   0.781593         0.0     146.139330             0.0\n",
       "3   zram-lzo   2.395748         0.0      44.263953             0.0"
      ]
     },
     "execution_count": 49,
     "metadata": {},
     "output_type": "execute_result"
    }
   ],
   "source": [
    "sq(\"\"\"\n",
    "    SELECT cdevice, readBW_GB, writeBW_GB, avgreadlat_us, avgwritelat_us\n",
    "    FROM df\n",
    "    WHERE crw='randread' AND cioengine='sync' AND cnproc=32 AND cbsize=4096\n",
    "\"\"\")"
   ]
  },
  {
   "cell_type": "code",
   "execution_count": 20,
   "metadata": {},
   "outputs": [
    {
     "ename": "IndexError",
     "evalue": "list index out of range",
     "output_type": "error",
     "traceback": [
      "\u001b[1;31m---------------------------------------------------------------------------\u001b[0m",
      "\u001b[1;31mIndexError\u001b[0m                                Traceback (most recent call last)",
      "\u001b[1;32mc:\\Users\\adnan\\Desktop\\Work\\2025\\COMP4550_Honours\\io-benchmark\\scripts\\analyse\\zraven.ipynb Cell 6\u001b[0m line \u001b[0;36m1\n\u001b[0;32m     <a href='vscode-notebook-cell:/c%3A/Users/adnan/Desktop/Work/2025/COMP4550_Honours/io-benchmark/scripts/analyse/zraven.ipynb#W4sZmlsZQ%3D%3D?line=11'>12</a>\u001b[0m df[\u001b[39m\"\u001b[39m\u001b[39mavgreadlat_us\u001b[39m\u001b[39m\"\u001b[39m] \u001b[39m=\u001b[39m df[\u001b[39m\"\u001b[39m\u001b[39mavgreadlat_ns\u001b[39m\u001b[39m\"\u001b[39m]\u001b[39m/\u001b[39m\u001b[39m1000.0\u001b[39m\n\u001b[0;32m     <a href='vscode-notebook-cell:/c%3A/Users/adnan/Desktop/Work/2025/COMP4550_Honours/io-benchmark/scripts/analyse/zraven.ipynb#W4sZmlsZQ%3D%3D?line=12'>13</a>\u001b[0m df[\u001b[39m\"\u001b[39m\u001b[39mavgwritelat_us\u001b[39m\u001b[39m\"\u001b[39m] \u001b[39m=\u001b[39m df[\u001b[39m\"\u001b[39m\u001b[39mavgwritelat_ns\u001b[39m\u001b[39m\"\u001b[39m]\u001b[39m/\u001b[39m\u001b[39m1000.0\u001b[39m\n\u001b[1;32m---> <a href='vscode-notebook-cell:/c%3A/Users/adnan/Desktop/Work/2025/COMP4550_Honours/io-benchmark/scripts/analyse/zraven.ipynb#W4sZmlsZQ%3D%3D?line=14'>15</a>\u001b[0m graph_output(df, \u001b[39m\"\u001b[39;49m\u001b[39mreadBW_GB\u001b[39;49m\u001b[39m\"\u001b[39;49m, \u001b[39m\"\u001b[39;49m\u001b[39mRead bandwidth (GB/s)\u001b[39;49m\u001b[39m\"\u001b[39;49m, \u001b[39m\"\u001b[39;49m\u001b[39mRead BW for max resource IO uring\u001b[39;49m\u001b[39m\"\u001b[39;49m, \u001b[39mf\u001b[39;49m\u001b[39m\"\u001b[39;49m\u001b[39m{\u001b[39;49;00moutDir\u001b[39m}\u001b[39;49;00m\u001b[39m/graphs/readBW/max-iouring.png\u001b[39;49m\u001b[39m\"\u001b[39;49m)\n\u001b[0;32m     <a href='vscode-notebook-cell:/c%3A/Users/adnan/Desktop/Work/2025/COMP4550_Honours/io-benchmark/scripts/analyse/zraven.ipynb#W4sZmlsZQ%3D%3D?line=15'>16</a>\u001b[0m graph_output(df, \u001b[39m\"\u001b[39m\u001b[39mwriteBW_GB\u001b[39m\u001b[39m\"\u001b[39m, \u001b[39m\"\u001b[39m\u001b[39mWrite bandwidth (GB/s)\u001b[39m\u001b[39m\"\u001b[39m, \u001b[39m\"\u001b[39m\u001b[39mWrite BW for max resource IO uring\u001b[39m\u001b[39m\"\u001b[39m, \u001b[39mf\u001b[39m\u001b[39m\"\u001b[39m\u001b[39m{\u001b[39;00moutDir\u001b[39m}\u001b[39;00m\u001b[39m/graphs/writeBW/max-iouring.png\u001b[39m\u001b[39m\"\u001b[39m, bar_colors\u001b[39m=\u001b[39m[\u001b[39m'\u001b[39m\u001b[39m#2ca02c\u001b[39m\u001b[39m'\u001b[39m, \u001b[39m'\u001b[39m\u001b[39m#d62728\u001b[39m\u001b[39m'\u001b[39m])\n\u001b[0;32m     <a href='vscode-notebook-cell:/c%3A/Users/adnan/Desktop/Work/2025/COMP4550_Honours/io-benchmark/scripts/analyse/zraven.ipynb#W4sZmlsZQ%3D%3D?line=16'>17</a>\u001b[0m graph_output(df, \u001b[39m\"\u001b[39m\u001b[39mavgreadlat_us\u001b[39m\u001b[39m\"\u001b[39m, \u001b[39m\"\u001b[39m\u001b[39mAverage read latency (us)\u001b[39m\u001b[39m\"\u001b[39m, \u001b[39m\"\u001b[39m\u001b[39mRead lat for max resource IO uring\u001b[39m\u001b[39m\"\u001b[39m, \u001b[39mf\u001b[39m\u001b[39m\"\u001b[39m\u001b[39m{\u001b[39;00moutDir\u001b[39m}\u001b[39;00m\u001b[39m/graphs/readlat/max-iouring.png\u001b[39m\u001b[39m\"\u001b[39m, bar_colors\u001b[39m=\u001b[39m[\u001b[39m'\u001b[39m\u001b[39m#9467bd\u001b[39m\u001b[39m'\u001b[39m, \u001b[39m'\u001b[39m\u001b[39m#8c564b\u001b[39m\u001b[39m'\u001b[39m])\n",
      "\u001b[1;32mc:\\Users\\adnan\\Desktop\\Work\\2025\\COMP4550_Honours\\io-benchmark\\scripts\\analyse\\zraven.ipynb Cell 6\u001b[0m line \u001b[0;36m2\n\u001b[0;32m     <a href='vscode-notebook-cell:/c%3A/Users/adnan/Desktop/Work/2025/COMP4550_Honours/io-benchmark/scripts/analyse/zraven.ipynb#W4sZmlsZQ%3D%3D?line=19'>20</a>\u001b[0m ax\u001b[39m.\u001b[39mbar(positions \u001b[39m-\u001b[39m \u001b[39m3\u001b[39m \u001b[39m*\u001b[39m bar_width \u001b[39m/\u001b[39m \u001b[39m4\u001b[39m, grouped_data[\u001b[39m'\u001b[39m\u001b[39mssd\u001b[39m\u001b[39m'\u001b[39m], width\u001b[39m=\u001b[39mbar_width, label\u001b[39m=\u001b[39m\u001b[39m'\u001b[39m\u001b[39mSSD\u001b[39m\u001b[39m'\u001b[39m, align\u001b[39m=\u001b[39m\u001b[39m'\u001b[39m\u001b[39mcenter\u001b[39m\u001b[39m'\u001b[39m, color\u001b[39m=\u001b[39mbar_colors[\u001b[39m0\u001b[39m])\n\u001b[0;32m     <a href='vscode-notebook-cell:/c%3A/Users/adnan/Desktop/Work/2025/COMP4550_Honours/io-benchmark/scripts/analyse/zraven.ipynb#W4sZmlsZQ%3D%3D?line=20'>21</a>\u001b[0m ax\u001b[39m.\u001b[39mbar(positions \u001b[39m-\u001b[39m bar_width \u001b[39m/\u001b[39m \u001b[39m4\u001b[39m, grouped_data[\u001b[39m'\u001b[39m\u001b[39mzram-lzo\u001b[39m\u001b[39m'\u001b[39m], width\u001b[39m=\u001b[39mbar_width, label\u001b[39m=\u001b[39m\u001b[39m'\u001b[39m\u001b[39mZRAM-lzo\u001b[39m\u001b[39m'\u001b[39m, align\u001b[39m=\u001b[39m\u001b[39m'\u001b[39m\u001b[39mcenter\u001b[39m\u001b[39m'\u001b[39m, color\u001b[39m=\u001b[39mbar_colors[\u001b[39m1\u001b[39m])\n\u001b[1;32m---> <a href='vscode-notebook-cell:/c%3A/Users/adnan/Desktop/Work/2025/COMP4550_Honours/io-benchmark/scripts/analyse/zraven.ipynb#W4sZmlsZQ%3D%3D?line=21'>22</a>\u001b[0m ax\u001b[39m.\u001b[39mbar(positions \u001b[39m+\u001b[39m bar_width \u001b[39m/\u001b[39m \u001b[39m4\u001b[39m, grouped_data[\u001b[39m'\u001b[39m\u001b[39mzram-lz4\u001b[39m\u001b[39m'\u001b[39m], width\u001b[39m=\u001b[39mbar_width, label\u001b[39m=\u001b[39m\u001b[39m'\u001b[39m\u001b[39mZRAM-lz4\u001b[39m\u001b[39m'\u001b[39m, align\u001b[39m=\u001b[39m\u001b[39m'\u001b[39m\u001b[39mcenter\u001b[39m\u001b[39m'\u001b[39m, color\u001b[39m=\u001b[39mbar_colors[\u001b[39m2\u001b[39;49m])\n\u001b[0;32m     <a href='vscode-notebook-cell:/c%3A/Users/adnan/Desktop/Work/2025/COMP4550_Honours/io-benchmark/scripts/analyse/zraven.ipynb#W4sZmlsZQ%3D%3D?line=22'>23</a>\u001b[0m ax\u001b[39m.\u001b[39mbar(positions \u001b[39m+\u001b[39m \u001b[39m3\u001b[39m \u001b[39m*\u001b[39m bar_width \u001b[39m/\u001b[39m \u001b[39m4\u001b[39m, grouped_data[\u001b[39m'\u001b[39m\u001b[39mzram-zstd\u001b[39m\u001b[39m'\u001b[39m], width\u001b[39m=\u001b[39mbar_width, label\u001b[39m=\u001b[39m\u001b[39m'\u001b[39m\u001b[39mZRAM-zstd\u001b[39m\u001b[39m'\u001b[39m, align\u001b[39m=\u001b[39m\u001b[39m'\u001b[39m\u001b[39mcenter\u001b[39m\u001b[39m'\u001b[39m, color\u001b[39m=\u001b[39mbar_colors[\u001b[39m3\u001b[39m])\n\u001b[0;32m     <a href='vscode-notebook-cell:/c%3A/Users/adnan/Desktop/Work/2025/COMP4550_Honours/io-benchmark/scripts/analyse/zraven.ipynb#W4sZmlsZQ%3D%3D?line=24'>25</a>\u001b[0m \u001b[39m# Set the x-axis labels (crw types)\u001b[39;00m\n",
      "\u001b[1;31mIndexError\u001b[0m: list index out of range"
     ]
    },
    {
     "data": {
      "image/png": "[encoded data removed]",
      "text/plain": [
       "<Figure size 1000x600 with 1 Axes>"
      ]
     },
     "metadata": {},
     "output_type": "display_data"
    }
   ],
   "source": [
    "params = \"crw, cdevice, readBW_bytes, writeBW_bytes, avgreadlat_ns, avgwritelat_ns\"\n",
    "outDir = f\"{root}/2025-07-21-raven3\"\n",
    "\n",
    "query = \"\"\"\n",
    "     SELECT {}\n",
    "     FROM raven\n",
    "     WHERE cioengine='io_uring' AND ciodepth='128' AND cnproc='64'\n",
    "\"\"\"\n",
    "df = sq(query.format(params))\n",
    "df[\"readBW_GB\"] = df[\"readBW_bytes\"]/(1024.0 * 1024.0 * 1024.0)\n",
    "df[\"writeBW_GB\"] = df[\"writeBW_bytes\"]/(1024.0 * 1024.0 * 1024.0)\n",
    "df[\"avgreadlat_us\"] = df[\"avgreadlat_ns\"]/1000.0\n",
    "df[\"avgwritelat_us\"] = df[\"avgwritelat_ns\"]/1000.0\n",
    "\n",
    "alib.grouped_barplot(\n",
    "     \n",
    ")"
   ]
  },
  {
   "cell_type": "code",
   "execution_count": null,
   "metadata": {},
   "outputs": [],
   "source": []
  }
 ],
 "metadata": {
  "kernelspec": {
   "display_name": "Python 3",
   "language": "python",
   "name": "python3"
  },
  "language_info": {
   "codemirror_mode": {
    "name": "ipython",
    "version": 3
   },
   "file_extension": ".py",
   "mimetype": "text/x-python",
   "name": "python",
   "nbconvert_exporter": "python",
   "pygments_lexer": "ipython3",
   "version": "3.10.11"
  }
 },
 "nbformat": 4,
 "nbformat_minor": 2
}
