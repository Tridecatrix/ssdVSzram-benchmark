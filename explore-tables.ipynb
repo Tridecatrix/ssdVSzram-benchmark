{
 "cells": [
  {
   "cell_type": "markdown",
   "id": "310b7c84-79ec-4371-a354-843599363f31",
   "metadata": {},
   "source": [
    "# Prologue"
   ]
  },
  {
   "cell_type": "code",
   "execution_count": 3,
   "id": "f6063661-75da-4163-b417-5acce8c426a2",
   "metadata": {},
   "outputs": [],
   "source": [
    "import matplotlib.pyplot as plt\n",
    "import pandas as pd\n",
    "import numpy as np\n",
    "import json\n",
    "import os\n",
    "import pandasql as pdsql"
   ]
  },
  {
   "cell_type": "code",
   "execution_count": 4,
   "id": "192ec459-c180-47e0-a556-d8ac3879b9bf",
   "metadata": {},
   "outputs": [],
   "source": [
    "pdsqleval = lambda q: pdsql.sqldf(q, globals())"
   ]
  },
  {
   "cell_type": "markdown",
   "id": "33afe25f-95ba-412f-b1b1-141f03b54991",
   "metadata": {},
   "source": [
    "# Data 04/03/2025"
   ]
  },
  {
   "cell_type": "code",
   "execution_count": null,
   "id": "569ac62e-082f-446b-8742-8886b055c79a",
   "metadata": {},
   "outputs": [],
   "source": [
    "masterSecondRun = pd.read_csv(\"\")"
   ]
  }
 ],
 "metadata": {
  "kernelspec": {
   "display_name": "Python 3 (ipykernel)",
   "language": "python",
   "name": "python3"
  },
  "language_info": {
   "codemirror_mode": {
    "name": "ipython",
    "version": 3
   },
   "file_extension": ".py",
   "mimetype": "text/x-python",
   "name": "python",
   "nbconvert_exporter": "python",
   "pygments_lexer": "ipython3",
   "version": "3.11.7"
  }
 },
 "nbformat": 4,
 "nbformat_minor": 5
}
