{
 "cells": [
  {
   "cell_type": "code",
   "execution_count": 2,
   "id": "f6063661-75da-4163-b417-5acce8c426a2",
   "metadata": {},
   "outputs": [
    {
     "ename": "ModuleNotFoundError",
     "evalue": "No module named 'duckdb'",
     "output_type": "error",
     "traceback": [
      "\u001b[1;31m---------------------------------------------------------------------------\u001b[0m",
      "\u001b[1;31mModuleNotFoundError\u001b[0m                       Traceback (most recent call last)",
      "Cell \u001b[1;32mIn[2], line 6\u001b[0m\n\u001b[0;32m      4\u001b[0m \u001b[38;5;28;01mimport\u001b[39;00m \u001b[38;5;21;01mjson\u001b[39;00m\n\u001b[0;32m      5\u001b[0m \u001b[38;5;28;01mimport\u001b[39;00m \u001b[38;5;21;01mos\u001b[39;00m\n\u001b[1;32m----> 6\u001b[0m \u001b[38;5;28;01mimport\u001b[39;00m \u001b[38;5;21;01mduckdb\u001b[39;00m\n",
      "\u001b[1;31mModuleNotFoundError\u001b[0m: No module named 'duckdb'"
     ]
    }
   ],
   "source": [
    "import matplotlib.pyplot as plt\n",
    "import pandas as pd\n",
    "import numpy as np\n",
    "import json\n",
    "import os\n",
    "import duckdb"
   ]
  },
  {
   "cell_type": "code",
   "execution_count": 2,
   "id": "192ec459-c180-47e0-a556-d8ac3879b9bf",
   "metadata": {},
   "outputs": [],
   "source": [
    "pysqldf = lambda q: pdsql.sqldf(q, globals())"
   ]
  },
  {
   "cell_type": "markdown",
   "id": "33afe25f-95ba-412f-b1b1-141f03b54991",
   "metadata": {},
   "source": [
    "# Data 04/03/2025"
   ]
  },
  {
   "cell_type": "code",
   "execution_count": 3,
   "id": "b5f585df-0760-4cf1-b10b-1fb9a08a14aa",
   "metadata": {},
   "outputs": [],
   "source": [
    "# config parameters\n",
    "bss = [4096]\n",
    "nprocs = [1, 32, 64]\n",
    "rws = \"read write rw randread randwrite randrw\".split(' ')\n",
    "ioengines = [\"sync-sync\", \"sync-mmap\", \"async-io_uring\", \"async-libaio\"]\n",
    "asyncioDepths = [64, 128]"
   ]
  },
  {
   "cell_type": "code",
   "execution_count": 4,
   "id": "b2835b31-26bc-4ef2-a596-63fc80dc93f8",
   "metadata": {},
   "outputs": [],
   "source": [
    "resultsDir = \"data/2025-03-04-time-18-40-26-second-run-finch2/\"\n",
    "configPaths = {}\n",
    "configNames = []\n",
    "for subdirpath, subsubdirs, subfiles in os.walk(resultsDir):\n",
    "    if \"fio_out.txt\" in subfiles:\n",
    "        cpath = os.path.normpath(subdirpath)\n",
    "        cname = cpath[len(resultsDir):].replace(\"\\\\\", \"‐\")\n",
    "        configNames.append(cname)\n",
    "        configPaths[cname] = cpath"
   ]
  },
  {
   "cell_type": "code",
   "execution_count": 5,
   "id": "0dd78cfd-12cc-4b62-ba58-3804c7dfc5f8",
   "metadata": {},
   "outputs": [],
   "source": [
    "# for config in configPaths.values():\n",
    "#     print(config)"
   ]
  },
  {
   "cell_type": "code",
   "execution_count": 6,
   "id": "f2a91328-a6b8-4a03-9d81-8e8f92c651b0",
   "metadata": {},
   "outputs": [],
   "source": [
    "allDataJson = {}\n",
    "for cname, cpath in configPaths.items():\n",
    "    with open(f\"{cpath}/fio_out.txt\") as datafile:\n",
    "        allDataJson[cname] = json.load(datafile)"
   ]
  },
  {
   "cell_type": "code",
   "execution_count": 7,
   "id": "5d76e086-08bd-4936-9bba-275e4daa47de",
   "metadata": {},
   "outputs": [],
   "source": [
    "# quick test\n",
    "# i = 77\n",
    "# print(f\"data for config {configNames[i]}:\")\n",
    "# data[configNames[i]]"
   ]
  },
  {
   "cell_type": "markdown",
   "id": "555aef3a-650f-400c-bb34-c1e7382b3820",
   "metadata": {},
   "source": [
    "# Master table generation"
   ]
  },
  {
   "cell_type": "markdown",
   "id": "816039a8-3df1-4e30-bd9a-527bde3e0abe",
   "metadata": {},
   "source": [
    "New idea: create one big table that has all of the data in it, and then query it using SQL\n",
    "\n",
    "The approach I'm going with for now is to use PandaSQL\n",
    "\n",
    "Likely should extract the below into a seperate script, and also create a script that can add columns to an existing master table (if I decide i want to profile more metrics later)"
   ]
  },
  {
   "cell_type": "code",
   "execution_count": 8,
   "id": "91bce30d-8d4d-4a72-9287-aac84077b78b",
   "metadata": {},
   "outputs": [],
   "source": [
    "# master table will have columns for params as well as columns for metrics\n",
    "#\n",
    "# dictionary keys below are the names of these columns as they will appear in the master table\n",
    "# dictionary values are the name of the corresponding index in the JSON, seperated by colons to indicate nesting\n",
    "#\n",
    "# param keys will be prefixed by 'c-' to specify they are part of the config\n",
    "params = {\n",
    "    \"bSize\": \"job options:bs\",\n",
    "    \"ioengine\": \"job options:ioengine\",\n",
    "    \"iodepth\": \"job options:iodepth\", # note: this will be overrided for sync ioengines to 1\n",
    "    \"rw\": \"job options:rw\",\n",
    "    \"nproc\": \"job options:numjobs\",\n",
    "    \"device\": \"special\"\n",
    "}\n",
    "metrics = {\n",
    "    \"readBW\": \"read:bw\",\n",
    "    \"writeBW\": \"write:bw\",\n",
    "    \"avgreadlat\": \"read:lat_ns:mean\",\n",
    "    \"avgwritelat\": \"write:lat_ns:mean\"\n",
    "} # TODO: add more metrics\n",
    "\n",
    "paramDefaults = {\n",
    "    \"bSize\": 4096,\n",
    "    \"iodepth\": 1,\n",
    "    \"rw\": \"read\",\n",
    "    \"nproc\": 1\n",
    "}\n",
    "\n",
    "columns = {**{\"c\" + pname: ppath for pname, ppath in params.items()}, **metrics}"
   ]
  },
  {
   "cell_type": "code",
   "execution_count": 9,
   "id": "90f9d2b9-defb-494f-a0ac-b1c8662cd7db",
   "metadata": {},
   "outputs": [],
   "source": [
    "mTable = []\n",
    "\n",
    "for cname, cjson in allDataJson.items():\n",
    "    mRow = {}\n",
    "\n",
    "    cjson = cjson[\"jobs\"][0]\n",
    "    for colname, colpath in columns.items():\n",
    "        value = cjson\n",
    "\n",
    "        if colpath == \"special\":\n",
    "            if colname == \"cdevice\":\n",
    "                directory = cjson[\"job options\"][\"directory\"]\n",
    "                if \"zram\" in directory:\n",
    "                    value = \"zram\"\n",
    "                elif \"ssd\" in directory:\n",
    "                    value = \"ssd\"\n",
    "        else:\n",
    "            for key in colpath.split(':'):\n",
    "                try:\n",
    "                    value = value[key]\n",
    "                except KeyError:\n",
    "                    value = paramDefaults[key]\n",
    "                \n",
    "        mRow[colname] = value\n",
    "        \n",
    "    mTable.append(mRow)\n",
    "\n",
    "mTable = pd.DataFrame(mTable)"
   ]
  },
  {
   "cell_type": "code",
   "execution_count": 10,
   "id": "99da8a1b-9a26-47e5-9431-218c28daccf5",
   "metadata": {},
   "outputs": [],
   "source": [
    "outDir = \"processed-data/2025-03-04-second-run-finch2\"\n",
    "mTable.to_csv(f\"{outDir}/master.csv\")"
   ]
  },
  {
   "cell_type": "code",
   "execution_count": 11,
   "id": "559bc446-92b0-4c9a-8fa6-70ed999f084c",
   "metadata": {},
   "outputs": [
    {
     "data": {
      "text/html": [
       "<div>\n",
       "<style scoped>\n",
       "    .dataframe tbody tr th:only-of-type {\n",
       "        vertical-align: middle;\n",
       "    }\n",
       "\n",
       "    .dataframe tbody tr th {\n",
       "        vertical-align: top;\n",
       "    }\n",
       "\n",
       "    .dataframe thead th {\n",
       "        text-align: right;\n",
       "    }\n",
       "</style>\n",
       "<table border=\"1\" class=\"dataframe\">\n",
       "  <thead>\n",
       "    <tr style=\"text-align: right;\">\n",
       "      <th></th>\n",
       "      <th>cbSize</th>\n",
       "      <th>crw</th>\n",
       "      <th>cioengine</th>\n",
       "      <th>ciodepth</th>\n",
       "      <th>cnproc</th>\n",
       "      <th>cdevice</th>\n",
       "    </tr>\n",
       "  </thead>\n",
       "  <tbody>\n",
       "    <tr>\n",
       "      <th>0</th>\n",
       "      <td>4096</td>\n",
       "      <td>randread</td>\n",
       "      <td>io_uring</td>\n",
       "      <td>128</td>\n",
       "      <td>1</td>\n",
       "      <td>ssd</td>\n",
       "    </tr>\n",
       "    <tr>\n",
       "      <th>1</th>\n",
       "      <td>4096</td>\n",
       "      <td>randread</td>\n",
       "      <td>io_uring</td>\n",
       "      <td>128</td>\n",
       "      <td>1</td>\n",
       "      <td>zram</td>\n",
       "    </tr>\n",
       "    <tr>\n",
       "      <th>2</th>\n",
       "      <td>4096</td>\n",
       "      <td>randread</td>\n",
       "      <td>io_uring</td>\n",
       "      <td>64</td>\n",
       "      <td>1</td>\n",
       "      <td>ssd</td>\n",
       "    </tr>\n",
       "    <tr>\n",
       "      <th>3</th>\n",
       "      <td>4096</td>\n",
       "      <td>randread</td>\n",
       "      <td>io_uring</td>\n",
       "      <td>64</td>\n",
       "      <td>1</td>\n",
       "      <td>zram</td>\n",
       "    </tr>\n",
       "    <tr>\n",
       "      <th>4</th>\n",
       "      <td>4096</td>\n",
       "      <td>randread</td>\n",
       "      <td>libaio</td>\n",
       "      <td>128</td>\n",
       "      <td>1</td>\n",
       "      <td>ssd</td>\n",
       "    </tr>\n",
       "    <tr>\n",
       "      <th>...</th>\n",
       "      <td>...</td>\n",
       "      <td>...</td>\n",
       "      <td>...</td>\n",
       "      <td>...</td>\n",
       "      <td>...</td>\n",
       "      <td>...</td>\n",
       "    </tr>\n",
       "    <tr>\n",
       "      <th>211</th>\n",
       "      <td>4096</td>\n",
       "      <td>write</td>\n",
       "      <td>libaio</td>\n",
       "      <td>64</td>\n",
       "      <td>64</td>\n",
       "      <td>zram</td>\n",
       "    </tr>\n",
       "    <tr>\n",
       "      <th>212</th>\n",
       "      <td>4096</td>\n",
       "      <td>write</td>\n",
       "      <td>mmap</td>\n",
       "      <td>1</td>\n",
       "      <td>64</td>\n",
       "      <td>ssd</td>\n",
       "    </tr>\n",
       "    <tr>\n",
       "      <th>213</th>\n",
       "      <td>4096</td>\n",
       "      <td>write</td>\n",
       "      <td>mmap</td>\n",
       "      <td>1</td>\n",
       "      <td>64</td>\n",
       "      <td>zram</td>\n",
       "    </tr>\n",
       "    <tr>\n",
       "      <th>214</th>\n",
       "      <td>4096</td>\n",
       "      <td>write</td>\n",
       "      <td>sync</td>\n",
       "      <td>1</td>\n",
       "      <td>64</td>\n",
       "      <td>ssd</td>\n",
       "    </tr>\n",
       "    <tr>\n",
       "      <th>215</th>\n",
       "      <td>4096</td>\n",
       "      <td>write</td>\n",
       "      <td>sync</td>\n",
       "      <td>1</td>\n",
       "      <td>64</td>\n",
       "      <td>zram</td>\n",
       "    </tr>\n",
       "  </tbody>\n",
       "</table>\n",
       "<p>216 rows × 6 columns</p>\n",
       "</div>"
      ],
      "text/plain": [
       "    cbSize       crw cioengine ciodepth cnproc cdevice\n",
       "0     4096  randread  io_uring      128      1     ssd\n",
       "1     4096  randread  io_uring      128      1    zram\n",
       "2     4096  randread  io_uring       64      1     ssd\n",
       "3     4096  randread  io_uring       64      1    zram\n",
       "4     4096  randread    libaio      128      1     ssd\n",
       "..     ...       ...       ...      ...    ...     ...\n",
       "211   4096     write    libaio       64     64    zram\n",
       "212   4096     write      mmap        1     64     ssd\n",
       "213   4096     write      mmap        1     64    zram\n",
       "214   4096     write      sync        1     64     ssd\n",
       "215   4096     write      sync        1     64    zram\n",
       "\n",
       "[216 rows x 6 columns]"
      ]
     },
     "execution_count": 11,
     "metadata": {},
     "output_type": "execute_result"
    }
   ],
   "source": [
    "pysqldf(\"SELECT cbSize, crw, cioengine, ciodepth, cnproc, cdevice FROM mTable\")"
   ]
  },
  {
   "cell_type": "code",
   "execution_count": null,
   "id": "569ac62e-082f-446b-8742-8886b055c79a",
   "metadata": {},
   "outputs": [],
   "source": [
    "sql3"
   ]
  }
 ],
 "metadata": {
  "kernelspec": {
   "display_name": "Python 3 (ipykernel)",
   "language": "python",
   "name": "python3"
  },
  "language_info": {
   "codemirror_mode": {
    "name": "ipython",
    "version": 3
   },
   "file_extension": ".py",
   "mimetype": "text/x-python",
   "name": "python",
   "nbconvert_exporter": "python",
   "pygments_lexer": "ipython3",
   "version": "3.11.7"
  }
 },
 "nbformat": 4,
 "nbformat_minor": 5
}
